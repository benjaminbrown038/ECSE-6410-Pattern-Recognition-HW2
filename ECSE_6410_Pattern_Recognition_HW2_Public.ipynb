{
  "nbformat": 4,
  "nbformat_minor": 0,
  "metadata": {
    "colab": {
      "provenance": [],
      "authorship_tag": "ABX9TyP971VsAmcXfuxYa1Hp432I",
      "include_colab_link": true
    },
    "kernelspec": {
      "name": "python3",
      "display_name": "Python 3"
    },
    "language_info": {
      "name": "python"
    }
  },
  "cells": [
    {
      "cell_type": "markdown",
      "metadata": {
        "id": "view-in-github",
        "colab_type": "text"
      },
      "source": [
        "<a href=\"https://colab.research.google.com/github/benjaminbrown038/ECSE-6410-Pattern-Recognition-HW2/blob/main/ECSE_6410_Pattern_Recognition_HW2_Public.ipynb\" target=\"_parent\"><img src=\"https://colab.research.google.com/assets/colab-badge.svg\" alt=\"Open In Colab\"/></a>"
      ]
    },
    {
      "cell_type": "markdown",
      "source": [],
      "metadata": {
        "id": "YfKSbIjmL571"
      }
    },
    {
      "cell_type": "markdown",
      "source": [],
      "metadata": {
        "id": "mxjoG29bL5-6"
      }
    },
    {
      "cell_type": "markdown",
      "source": [],
      "metadata": {
        "id": "wujrbZzXL6CS"
      }
    },
    {
      "cell_type": "markdown",
      "source": [],
      "metadata": {
        "id": "T6_5RaocL6GO"
      }
    },
    {
      "cell_type": "code",
      "source": [],
      "metadata": {
        "id": "Cv_-u9KxL6Nx"
      },
      "execution_count": null,
      "outputs": []
    },
    {
      "cell_type": "markdown",
      "source": [],
      "metadata": {
        "id": "CPKADVZ1L6VF"
      }
    },
    {
      "cell_type": "code",
      "source": [],
      "metadata": {
        "id": "1RosPsRnL6aj"
      },
      "execution_count": null,
      "outputs": []
    },
    {
      "cell_type": "markdown",
      "source": [],
      "metadata": {
        "id": "WxrVh6yYL6hD"
      }
    },
    {
      "cell_type": "code",
      "source": [],
      "metadata": {
        "id": "Gzjc_uaiL6my"
      },
      "execution_count": null,
      "outputs": []
    },
    {
      "cell_type": "markdown",
      "source": [],
      "metadata": {
        "id": "pMXtbBHsL6vp"
      }
    },
    {
      "cell_type": "code",
      "source": [],
      "metadata": {
        "id": "2CJiVjM_L61H"
      },
      "execution_count": null,
      "outputs": []
    },
    {
      "cell_type": "markdown",
      "source": [],
      "metadata": {
        "id": "hgfIKzOKL67X"
      }
    },
    {
      "cell_type": "code",
      "source": [],
      "metadata": {
        "id": "hgozxwd5L7A1"
      },
      "execution_count": null,
      "outputs": []
    },
    {
      "cell_type": "markdown",
      "source": [],
      "metadata": {
        "id": "AOIYwlqEL7Gk"
      }
    },
    {
      "cell_type": "code",
      "source": [],
      "metadata": {
        "id": "mLtRbIV4L7Lx"
      },
      "execution_count": null,
      "outputs": []
    }
  ]
}